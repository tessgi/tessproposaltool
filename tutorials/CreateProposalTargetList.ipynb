{
 "cells": [
  {
   "cell_type": "markdown",
   "id": "42ed75be-8002-45fb-af8b-481509bb23db",
   "metadata": {},
   "source": [
    "# Creating a TESS proposal target list for ARK\n",
    "\n",
    "This tool is provided by the TESS Science Support team to assist the community in planning and proposing.\n",
    "\n",
    "As part of the [TESS General Observer proposal](https://heasarcdev.gsfc.nasa.gov/docs/tess/proposing-investigations.html) if you are requesting 2-min or 20-sec cadenced observations, you are required to either submit your targets individually (if less than ~50 objects) or upload a target file to [ARK](https://heasarc.gsfc.nasa.gov/ark/tess/). This has target file has certain [requirements](https://heasarc.gsfc.nasa.gov/ark/tess/help.html#TARGET), one of which is for each object to have a TIC ID, where possible.\n",
    "\n",
    "To aid in the creation of this file and to ensure that it meets the requirements necessary, we have developed the tool below. This tool will take an input CSV containing at minimum a list IDs and/or R.A's and Dec's (or a mix of both) for your objects of interest, and will and crossmatch them with the TESS Input Catalog (TIC) to return a CSV file which is compatible for submission to [ARK](https://heasarc.gsfc.nasa.gov/ark/tess/).\n",
    "\n",
    "For example, if you are submitting targets and have R.A and Dec. values for each target, submit a CSV file containing the R.A and Dec's as columns and the tool will return a CSV file with the nearest cross matches in the TIC.\n",
    "\n",
    "Note additional information you may include within your input CSV file is listed below - your input CSV should contain a subset of these columns, with at least a TIC ID for each object, or an R.A and Dec.\n",
    "\n",
    "## Requirements \n",
    "\n",
    "To run this tool you need the following python packages\n",
    "\n",
    "- [Numpy](https://numpy.org/) for manipulating data\n",
    "- [Pandas](https://pandas.pydata.org/) for data frame work\n",
    "- [lksearch](https://lightkurve.github.io/lksearch/) for searching the TIC\n",
    "- [tesswcs](https://pypi.org/project/tesswcs/) for the TESS word coordinate system\n",
    "- [tessproposaltool](https://github.com/tessgi/tessproposaltool) a package that reads you CSV file and outputs the CSV for ARK\n",
    "\n",
    "You can import these or pip install them as shown below"
   ]
  },
  {
   "cell_type": "code",
   "execution_count": 1,
   "id": "775cf1ba-f144-4a0b-9133-1772951fd635",
   "metadata": {},
   "outputs": [],
   "source": [
    "import numpy as np\n",
    "import pandas as pd\n",
    "import astropy\n",
    "import sys, os"
   ]
  },
  {
   "cell_type": "code",
   "execution_count": 2,
   "id": "6bae9a69-8ce1-4197-8707-9a679b3f1bf0",
   "metadata": {},
   "outputs": [],
   "source": [
    "#You may not have tesswcs installed already - if so please install via pip!pip install tesswcs\n",
    "!pip install tesswcs --quiet\n",
    "import tesswcs"
   ]
  },
  {
   "cell_type": "code",
   "execution_count": 3,
   "id": "ec2ad2ee-8697-4358-9cef-1e2a34bcf911",
   "metadata": {},
   "outputs": [],
   "source": [
    "#You may not have lksearch installed already - if so please install via !pip install lksearch\n",
    "!pip install lksearch --quiet\n",
    "import lksearch"
   ]
  },
  {
   "cell_type": "code",
   "execution_count": 4,
   "id": "6928a080-c62e-4f40-b9dc-10fec47aec19",
   "metadata": {},
   "outputs": [],
   "source": [
    "#You may not have tessproposaltool installed already - if so please install via !pip install tessproposaltool\n",
    "!pip install tessproposaltool --quiet\n",
    "import tessproposaltool \n",
    "from tessproposaltool import create_target_list"
   ]
  },
  {
   "cell_type": "markdown",
   "id": "4594da60-bc69-4217-8ab4-7f8680693c6c",
   "metadata": {},
   "source": [
    "## Read in your csv file \n",
    "Next we are going to read in your CSV file and convert it into a pandas dataframe.\n",
    "For now are are going to use some of the files in test.\n"
   ]
  },
  {
   "cell_type": "code",
   "execution_count": 5,
   "id": "e0e1592b-0fc5-49cb-88e1-c665e9b2b04d",
   "metadata": {},
   "outputs": [
    {
     "data": {
      "text/html": [
       "<div>\n",
       "<style scoped>\n",
       "    .dataframe tbody tr th:only-of-type {\n",
       "        vertical-align: middle;\n",
       "    }\n",
       "\n",
       "    .dataframe tbody tr th {\n",
       "        vertical-align: top;\n",
       "    }\n",
       "\n",
       "    .dataframe thead th {\n",
       "        text-align: right;\n",
       "    }\n",
       "</style>\n",
       "<table border=\"1\" class=\"dataframe\">\n",
       "  <thead>\n",
       "    <tr style=\"text-align: right;\">\n",
       "      <th></th>\n",
       "      <th>ra</th>\n",
       "      <th>dec</th>\n",
       "      <th>tmag</th>\n",
       "      <th>tic</th>\n",
       "    </tr>\n",
       "  </thead>\n",
       "  <tbody>\n",
       "    <tr>\n",
       "      <th>0</th>\n",
       "      <td>40.2986</td>\n",
       "      <td>56.7305</td>\n",
       "      <td>9.39</td>\n",
       "      <td>245701221.0</td>\n",
       "    </tr>\n",
       "    <tr>\n",
       "      <th>1</th>\n",
       "      <td>110.0930</td>\n",
       "      <td>-22.2673</td>\n",
       "      <td>13.51</td>\n",
       "      <td>NaN</td>\n",
       "    </tr>\n",
       "    <tr>\n",
       "      <th>2</th>\n",
       "      <td>116.2430</td>\n",
       "      <td>-30.0918</td>\n",
       "      <td>9.50</td>\n",
       "      <td>149605432.0</td>\n",
       "    </tr>\n",
       "    <tr>\n",
       "      <th>3</th>\n",
       "      <td>152.6330</td>\n",
       "      <td>-59.3549</td>\n",
       "      <td>10.05</td>\n",
       "      <td>NaN</td>\n",
       "    </tr>\n",
       "    <tr>\n",
       "      <th>4</th>\n",
       "      <td>163.4370</td>\n",
       "      <td>-58.4871</td>\n",
       "      <td>9.91</td>\n",
       "      <td>459811015.0</td>\n",
       "    </tr>\n",
       "    <tr>\n",
       "      <th>5</th>\n",
       "      <td>NaN</td>\n",
       "      <td>NaN</td>\n",
       "      <td>NaN</td>\n",
       "      <td>466105108.0</td>\n",
       "    </tr>\n",
       "  </tbody>\n",
       "</table>\n",
       "</div>"
      ],
      "text/plain": [
       "         ra      dec   tmag          tic\n",
       "0   40.2986  56.7305   9.39  245701221.0\n",
       "1  110.0930 -22.2673  13.51          NaN\n",
       "2  116.2430 -30.0918   9.50  149605432.0\n",
       "3  152.6330 -59.3549  10.05          NaN\n",
       "4  163.4370 -58.4871   9.91  459811015.0\n",
       "5       NaN      NaN    NaN  466105108.0"
      ]
     },
     "execution_count": 5,
     "metadata": {},
     "output_type": "execute_result"
    }
   ],
   "source": [
    "filename = \"data/test_mix_radectic.csv\"\n",
    "df = pd.read_csv(filename)\n",
    "#You can view your input array by commenting out the line below\n",
    "df"
   ]
  },
  {
   "cell_type": "code",
   "execution_count": 6,
   "id": "6aef7035-4274-469f-a5cb-aa96596d9d1a",
   "metadata": {},
   "outputs": [
    {
     "data": {
      "text/html": [
       "<pre style=\"white-space:pre;overflow-x:auto;line-height:normal;font-family:Menlo,'DejaVu Sans Mono',consolas,'Courier New',monospace\">TIC and ra/dec supplied: ignoring RA, DEC and using TIC to construct target list                                   \n",
       "</pre>\n"
      ],
      "text/plain": [
       "TIC and ra/dec supplied: ignoring RA, DEC and using TIC to construct target list                                   \n"
      ]
     },
     "metadata": {},
     "output_type": "display_data"
    },
    {
     "data": {
      "text/html": [
       "<pre style=\"white-space:pre;overflow-x:auto;line-height:normal;font-family:Menlo,'DejaVu Sans Mono',consolas,'Courier New',monospace\">`name` not found in input dataframe - assuming: null                                                               \n",
       "</pre>\n"
      ],
      "text/plain": [
       "`name` not found in input dataframe - assuming: null                                                               \n"
      ]
     },
     "metadata": {},
     "output_type": "display_data"
    },
    {
     "data": {
      "text/html": [
       "<pre style=\"white-space:pre;overflow-x:auto;line-height:normal;font-family:Menlo,'DejaVu Sans Mono',consolas,'Courier New',monospace\">`extended` not found in input dataframe - assuming: N                                                              \n",
       "</pre>\n"
      ],
      "text/plain": [
       "`extended` not found in input dataframe - assuming: N                                                              \n"
      ]
     },
     "metadata": {},
     "output_type": "display_data"
    },
    {
     "data": {
      "text/html": [
       "<pre style=\"white-space:pre;overflow-x:auto;line-height:normal;font-family:Menlo,'DejaVu Sans Mono',consolas,'Courier New',monospace\">`special_handling` not found in input dataframe - assuming: N                                                      \n",
       "</pre>\n"
      ],
      "text/plain": [
       "`special_handling` not found in input dataframe - assuming: N                                                      \n"
      ]
     },
     "metadata": {},
     "output_type": "display_data"
    },
    {
     "data": {
      "text/html": [
       "<pre style=\"white-space:pre;overflow-x:auto;line-height:normal;font-family:Menlo,'DejaVu Sans Mono',consolas,'Courier New',monospace\">`20s_request` not found in input dataframe - assuming: N                                                           \n",
       "</pre>\n"
      ],
      "text/plain": [
       "`20s_request` not found in input dataframe - assuming: N                                                           \n"
      ]
     },
     "metadata": {},
     "output_type": "display_data"
    },
    {
     "data": {
      "text/html": [
       "<pre style=\"white-space:pre;overflow-x:auto;line-height:normal;font-family:Menlo,'DejaVu Sans Mono',consolas,'Courier New',monospace\">`swift_request` not found in input dataframe - assuming: null                                                      \n",
       "</pre>\n"
      ],
      "text/plain": [
       "`swift_request` not found in input dataframe - assuming: null                                                      \n"
      ]
     },
     "metadata": {},
     "output_type": "display_data"
    },
    {
     "data": {
      "text/html": [
       "<pre style=\"white-space:pre;overflow-x:auto;line-height:normal;font-family:Menlo,'DejaVu Sans Mono',consolas,'Courier New',monospace\">`nicer_request` not found in input dataframe - assuming: null                                                      \n",
       "</pre>\n"
      ],
      "text/plain": [
       "`nicer_request` not found in input dataframe - assuming: null                                                      \n"
      ]
     },
     "metadata": {},
     "output_type": "display_data"
    },
    {
     "data": {
      "text/html": [
       "<pre style=\"white-space:pre;overflow-x:auto;line-height:normal;font-family:Menlo,'DejaVu Sans Mono',consolas,'Courier New',monospace\">`remarks` not found in input dataframe - assuming: null                                                            \n",
       "</pre>\n"
      ],
      "text/plain": [
       "`remarks` not found in input dataframe - assuming: null                                                            \n"
      ]
     },
     "metadata": {},
     "output_type": "display_data"
    },
    {
     "data": {
      "text/html": [
       "<div>\n",
       "<style scoped>\n",
       "    .dataframe tbody tr th:only-of-type {\n",
       "        vertical-align: middle;\n",
       "    }\n",
       "\n",
       "    .dataframe tbody tr th {\n",
       "        vertical-align: top;\n",
       "    }\n",
       "\n",
       "    .dataframe thead th {\n",
       "        text-align: right;\n",
       "    }\n",
       "</style>\n",
       "<table border=\"1\" class=\"dataframe\">\n",
       "  <thead>\n",
       "    <tr style=\"text-align: right;\">\n",
       "      <th></th>\n",
       "      <th>tic</th>\n",
       "      <th>ra</th>\n",
       "      <th>dec</th>\n",
       "      <th>pmra</th>\n",
       "      <th>pmde</th>\n",
       "      <th>tmag</th>\n",
       "      <th>name</th>\n",
       "      <th>extended</th>\n",
       "      <th>special_handling</th>\n",
       "      <th>20s_request</th>\n",
       "      <th>swift_request</th>\n",
       "      <th>nicer_request</th>\n",
       "      <th>remarks</th>\n",
       "    </tr>\n",
       "  </thead>\n",
       "  <tbody>\n",
       "    <tr>\n",
       "      <th>0.0</th>\n",
       "      <td>245701221</td>\n",
       "      <td>40.298647</td>\n",
       "      <td>56.730482</td>\n",
       "      <td>-0.195</td>\n",
       "      <td>2.457</td>\n",
       "      <td>10.010000</td>\n",
       "      <td>&lt;NA&gt;</td>\n",
       "      <td>N</td>\n",
       "      <td>N</td>\n",
       "      <td>N</td>\n",
       "      <td>&lt;NA&gt;</td>\n",
       "      <td>&lt;NA&gt;</td>\n",
       "      <td>&lt;NA&gt;</td>\n",
       "    </tr>\n",
       "    <tr>\n",
       "      <th>1.0</th>\n",
       "      <td>5121803</td>\n",
       "      <td>110.096407</td>\n",
       "      <td>-22.264256</td>\n",
       "      <td>-8.702</td>\n",
       "      <td>5.036</td>\n",
       "      <td>14.594000</td>\n",
       "      <td>&lt;NA&gt;</td>\n",
       "      <td>N</td>\n",
       "      <td>N</td>\n",
       "      <td>N</td>\n",
       "      <td>&lt;NA&gt;</td>\n",
       "      <td>&lt;NA&gt;</td>\n",
       "      <td>Crossmatch Parameters: separation: 0.751265563...</td>\n",
       "    </tr>\n",
       "    <tr>\n",
       "      <th>2.0</th>\n",
       "      <td>149605432</td>\n",
       "      <td>116.254083</td>\n",
       "      <td>-30.095750</td>\n",
       "      <td>-1.617</td>\n",
       "      <td>2.061</td>\n",
       "      <td>16.040001</td>\n",
       "      <td>&lt;NA&gt;</td>\n",
       "      <td>N</td>\n",
       "      <td>N</td>\n",
       "      <td>N</td>\n",
       "      <td>&lt;NA&gt;</td>\n",
       "      <td>&lt;NA&gt;</td>\n",
       "      <td>&lt;NA&gt;</td>\n",
       "    </tr>\n",
       "    <tr>\n",
       "      <th>3.0</th>\n",
       "      <td>462915110</td>\n",
       "      <td>152.632203</td>\n",
       "      <td>-59.349315</td>\n",
       "      <td>-5.179</td>\n",
       "      <td>3.513</td>\n",
       "      <td>13.284000</td>\n",
       "      <td>&lt;NA&gt;</td>\n",
       "      <td>N</td>\n",
       "      <td>N</td>\n",
       "      <td>N</td>\n",
       "      <td>&lt;NA&gt;</td>\n",
       "      <td>&lt;NA&gt;</td>\n",
       "      <td>Crossmatch Parameters: separation: 0.959952163...</td>\n",
       "    </tr>\n",
       "    <tr>\n",
       "      <th>4.0</th>\n",
       "      <td>459811015</td>\n",
       "      <td>163.457320</td>\n",
       "      <td>-58.487405</td>\n",
       "      <td>-4.848</td>\n",
       "      <td>0.630</td>\n",
       "      <td>14.870000</td>\n",
       "      <td>&lt;NA&gt;</td>\n",
       "      <td>N</td>\n",
       "      <td>N</td>\n",
       "      <td>N</td>\n",
       "      <td>&lt;NA&gt;</td>\n",
       "      <td>&lt;NA&gt;</td>\n",
       "      <td>&lt;NA&gt;</td>\n",
       "    </tr>\n",
       "    <tr>\n",
       "      <th>5.0</th>\n",
       "      <td>466105108</td>\n",
       "      <td>165.088880</td>\n",
       "      <td>-60.764937</td>\n",
       "      <td>-4.049</td>\n",
       "      <td>1.848</td>\n",
       "      <td>16.339001</td>\n",
       "      <td>&lt;NA&gt;</td>\n",
       "      <td>N</td>\n",
       "      <td>N</td>\n",
       "      <td>N</td>\n",
       "      <td>&lt;NA&gt;</td>\n",
       "      <td>&lt;NA&gt;</td>\n",
       "      <td>&lt;NA&gt;</td>\n",
       "    </tr>\n",
       "  </tbody>\n",
       "</table>\n",
       "</div>"
      ],
      "text/plain": [
       "           tic          ra        dec   pmra   pmde       tmag  name extended  \\\n",
       "0.0  245701221   40.298647  56.730482 -0.195  2.457  10.010000  <NA>        N   \n",
       "1.0    5121803  110.096407 -22.264256 -8.702  5.036  14.594000  <NA>        N   \n",
       "2.0  149605432  116.254083 -30.095750 -1.617  2.061  16.040001  <NA>        N   \n",
       "3.0  462915110  152.632203 -59.349315 -5.179  3.513  13.284000  <NA>        N   \n",
       "4.0  459811015  163.457320 -58.487405 -4.848  0.630  14.870000  <NA>        N   \n",
       "5.0  466105108  165.088880 -60.764937 -4.049  1.848  16.339001  <NA>        N   \n",
       "\n",
       "    special_handling 20s_request swift_request nicer_request  \\\n",
       "0.0                N           N          <NA>          <NA>   \n",
       "1.0                N           N          <NA>          <NA>   \n",
       "2.0                N           N          <NA>          <NA>   \n",
       "3.0                N           N          <NA>          <NA>   \n",
       "4.0                N           N          <NA>          <NA>   \n",
       "5.0                N           N          <NA>          <NA>   \n",
       "\n",
       "                                               remarks  \n",
       "0.0                                               <NA>  \n",
       "1.0  Crossmatch Parameters: separation: 0.751265563...  \n",
       "2.0                                               <NA>  \n",
       "3.0  Crossmatch Parameters: separation: 0.959952163...  \n",
       "4.0                                               <NA>  \n",
       "5.0                                               <NA>  "
      ]
     },
     "execution_count": 6,
     "metadata": {},
     "output_type": "execute_result"
    }
   ],
   "source": [
    "outdf = create_target_list(df)\n",
    "#You can view your output array by commenting out the line below\n",
    "outdf"
   ]
  },
  {
   "cell_type": "markdown",
   "id": "7b941937-9359-47cd-9227-391fa70ee88c",
   "metadata": {},
   "source": [
    "## Convert into a CSV file\n",
    "\n",
    "We can then convert this into an output CSV file which you can upload to ARK"
   ]
  },
  {
   "cell_type": "code",
   "execution_count": 7,
   "id": "76004cb7-8fd4-4a9f-bc1d-4e3e19760b49",
   "metadata": {},
   "outputs": [],
   "source": [
    "outfilename = \"data/test_mix_radectic_outfile.csv\"\n",
    "outdf.to_csv(outfilename, index=False)"
   ]
  }
 ],
 "metadata": {
  "kernelspec": {
   "display_name": "Python 3 (ipykernel)",
   "language": "python",
   "name": "python3"
  },
  "language_info": {
   "codemirror_mode": {
    "name": "ipython",
    "version": 3
   },
   "file_extension": ".py",
   "mimetype": "text/x-python",
   "name": "python",
   "nbconvert_exporter": "python",
   "pygments_lexer": "ipython3",
   "version": "3.12.9"
  }
 },
 "nbformat": 4,
 "nbformat_minor": 5
}
